{
 "cells": [
  {
   "cell_type": "markdown",
   "id": "4e62c549-1b25-4682-be7c-16687450fd78",
   "metadata": {},
   "source": [
    "# 29th January Python Assignments"
   ]
  },
  {
   "cell_type": "markdown",
   "id": "939d0556-e922-499d-af8e-27deda4bdf2d",
   "metadata": {},
   "source": [
    "### 1.Python Programming language was developed by Guido Van Rossum and was first released in the year 1991"
   ]
  },
  {
   "cell_type": "markdown",
   "id": "9e6d67f5-0a62-45e9-99a9-dadce082ac82",
   "metadata": {},
   "source": [
    "### 2. Python is an interpreted,object-oriented,high-level programming language with dynamic semantics.So it supports both object oriented programming and structured programming\n"
   ]
  },
  {
   "cell_type": "markdown",
   "id": "08d1c4a3-81ce-4605-afc4-80a9a6bcd4d9",
   "metadata": {},
   "source": [
    "### 3. Yes, python is case sensitive when dealing with identifiers becouse it treats uppers case and lowes case differiently."
   ]
  },
  {
   "cell_type": "markdown",
   "id": "9f0cab69-517e-4f0f-85f5-009caf827ade",
   "metadata": {},
   "source": [
    "### 4. The correct extension of the python file is .py or .pye"
   ]
  },
  {
   "cell_type": "markdown",
   "id": "1920a8a6-8c89-4823-9752-79df65331609",
   "metadata": {},
   "source": [
    "### 5. Python code is interpreted "
   ]
  },
  {
   "cell_type": "markdown",
   "id": "24b42c42-42d3-4901-ae5f-75c158dff612",
   "metadata": {},
   "source": [
    "### 6. "
   ]
  },
  {
   "cell_type": "markdown",
   "id": "d6d272d0-c7de-4523-a08f-ea31240320e8",
   "metadata": {},
   "source": [
    "### 7. The charactor that is used to give single-line comments in python is '#'"
   ]
  },
  {
   "cell_type": "markdown",
   "id": "b4f0c627-50e4-4ea6-877f-5ccdd88c4e30",
   "metadata": {},
   "source": [
    "### 8. The function sys. version can help us to find the version of python that we are currently working on.\n"
   ]
  },
  {
   "cell_type": "markdown",
   "id": "824eadf1-74e1-48a1-9ee8-f3762a5f6b79",
   "metadata": {},
   "source": [
    "### 9. lamda"
   ]
  },
  {
   "cell_type": "markdown",
   "id": "aaf24ed5-bf62-425b-a2bd-5940cdeac284",
   "metadata": {},
   "source": [
    "### 10. The meaning of pip is preferred installer program"
   ]
  },
  {
   "cell_type": "markdown",
   "id": "17eca544-7c54-466c-8231-1f167a8efe83",
   "metadata": {},
   "source": [
    "### 11. few built-in functions in python are print(),type(),input(),sum()"
   ]
  },
  {
   "cell_type": "markdown",
   "id": "90b39a8a-a108-490b-87c8-0bd365a4032b",
   "metadata": {},
   "source": [
    "### 12. An identifier can have a maximum length of 79 characters in Python."
   ]
  },
  {
   "cell_type": "markdown",
   "id": "1e4ee61b-17e8-458d-977c-01e26d88150f",
   "metadata": {},
   "source": [
    "### 13. There are many benifits of using python such as\n",
    ".dynamic typing\n",
    ".type casting\n",
    ".it supports modules and pakages \n",
    ".easy to learn syntax\n",
    ".it has more than 137000 libraries\n",
    ".fun to use\n"
   ]
  },
  {
   "cell_type": "markdown",
   "id": "5df43470-0594-4c79-9ae2-2636be764323",
   "metadata": {},
   "source": [
    "### 14. Memory in Python is managed by Python private heap space. All Python objects and data structures are located in a private heap."
   ]
  },
  {
   "cell_type": "markdown",
   "id": "b8b71bf5-8309-424e-8c4b-783e6217e03f",
   "metadata": {},
   "source": [
    "### 15.\n",
    "(1) To install python in windows\n",
    "Open a browser to the Python website and download the Windows installer. 2. Double click on the downloaded file and install Python for all users, and ensure that Python is added to your path. Click on Install now to begin\n",
    "\n",
    "(2) To set path variables\n",
    "Right-clicking This PC and going to Properties.\n",
    "\n",
    "Clicking on the Advanced system settings in the menu on the left.\n",
    "\n",
    "Clicking on the Environment Variables button on the bottom right.\n",
    "\n",
    "In the System variables section, selecting the Path variable and clicking on Edit. The next screen will show all the directories that are currently a part of the PATH variable.\n",
    "\n",
    "Clicking on New and entering Python’s install directory."
   ]
  },
  {
   "cell_type": "markdown",
   "id": "3910072e-d8fe-4c43-85d8-bcf81a2fcdc2",
   "metadata": {},
   "source": [
    "### 16. yes, identification is reuired in the python"
   ]
  },
  {
   "cell_type": "code",
   "execution_count": null,
   "id": "8d2e9e16-af7c-4b22-a75a-048c6613c7e2",
   "metadata": {},
   "outputs": [],
   "source": []
  }
 ],
 "metadata": {
  "kernelspec": {
   "display_name": "Python 3 (ipykernel)",
   "language": "python",
   "name": "python3"
  },
  "language_info": {
   "codemirror_mode": {
    "name": "ipython",
    "version": 3
   },
   "file_extension": ".py",
   "mimetype": "text/x-python",
   "name": "python",
   "nbconvert_exporter": "python",
   "pygments_lexer": "ipython3",
   "version": "3.10.8"
  }
 },
 "nbformat": 4,
 "nbformat_minor": 5
}
